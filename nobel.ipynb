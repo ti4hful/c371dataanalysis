{
 "cells": [
  {
   "cell_type": "code",
   "execution_count": 20,
   "metadata": {},
   "outputs": [],
   "source": [
    "import json"
   ]
  },
  {
   "cell_type": "code",
   "execution_count": 26,
   "metadata": {},
   "outputs": [],
   "source": [
    "file_path = r'C:\\Codebase\\own projects\\C371_DA\\4DataProcessingUsingPython\\ASSIGNMENTS\\dataset\\laureate.json'\n",
    "\n",
    "with open(file_path, 'r', encoding='utf-8') as file:\n",
    "    laureates_data = json.load(file)\n",
    "\n"
   ]
  },
  {
   "cell_type": "code",
   "execution_count": 27,
   "metadata": {},
   "outputs": [
    {
     "name": "stdout",
     "output_type": "stream",
     "text": [
      "dict_keys(['id', 'firstname', 'surname', 'born', 'died', 'bornCountry', 'bornCountryCode', 'bornCity', 'diedCountry', 'diedCountryCode', 'diedCity', 'gender', 'prizes'])\n"
     ]
    }
   ],
   "source": [
    "# Print the keys in one of the laureate entries\n",
    "sample_laureate = laureates_data['laureates'][0]\n",
    "print(sample_laureate.keys())\n"
   ]
  },
  {
   "cell_type": "code",
   "execution_count": 28,
   "metadata": {},
   "outputs": [],
   "source": [
    "# Initialize a dictionary to count laureates by country\n",
    "country_counts = {}"
   ]
  },
  {
   "cell_type": "code",
   "execution_count": 30,
   "metadata": {},
   "outputs": [],
   "source": [
    "\n",
    "for laureate in laureates_data['laureates']:\n",
    "    born_country = laureate.get(\"bornCountry\", \"Unknown\")\n",
    "    if born_country in country_counts:\n",
    "        country_counts[born_country] += 1\n",
    "    else:\n",
    "        country_counts[born_country] = 1\n"
   ]
  },
  {
   "cell_type": "code",
   "execution_count": 31,
   "metadata": {},
   "outputs": [
    {
     "name": "stdout",
     "output_type": "stream",
     "text": [
      "The country with the most laureates is USA with 408 laureates.\n"
     ]
    }
   ],
   "source": [
    "# Find the country with the most laureates\n",
    "most_laureates_country = max(country_counts, key=country_counts.get)\n",
    "most_laureates_count = country_counts[most_laureates_country]\n",
    "\n",
    "print(f\"The country with the most laureates is {most_laureates_country} with {most_laureates_count} laureates.\")"
   ]
  },
  {
   "cell_type": "code",
   "execution_count": 32,
   "metadata": {},
   "outputs": [
    {
     "name": "stdout",
     "output_type": "stream",
     "text": [
      "The country with the fewest laureates is Austrian Empire (now Czech Republic) with 1 laureates.\n"
     ]
    }
   ],
   "source": [
    "# Find the country with the fewest laureates\n",
    "fewest_laureates_country = min(country_counts, key=country_counts.get)\n",
    "fewest_laureates_count = country_counts[fewest_laureates_country]\n",
    "\n",
    "print(f\"The country with the fewest laureates is {fewest_laureates_country} with {fewest_laureates_count} laureates.\")"
   ]
  },
  {
   "cell_type": "code",
   "execution_count": 34,
   "metadata": {},
   "outputs": [],
   "source": [
    "# Initialize a dictionary to count laureates by city\n",
    "city_counts = {}"
   ]
  },
  {
   "cell_type": "code",
   "execution_count": 35,
   "metadata": {},
   "outputs": [],
   "source": [
    "\n",
    "for laureate in laureates_data['laureates']:\n",
    "    born_city = laureate.get(\"bornCity\", \"Unknown\")\n",
    "    if born_city in city_counts:\n",
    "        city_counts[born_city] += 1\n",
    "    else:\n",
    "        city_counts[born_city] = 1"
   ]
  },
  {
   "cell_type": "code",
   "execution_count": 36,
   "metadata": {},
   "outputs": [],
   "source": [
    "# Find the city with the most-fewest laureates\n",
    "most_laureates_city = max(city_counts, key=city_counts.get)\n",
    "most_laureates_count = city_counts[most_laureates_city]"
   ]
  },
  {
   "cell_type": "code",
   "execution_count": 37,
   "metadata": {},
   "outputs": [
    {
     "name": "stdout",
     "output_type": "stream",
     "text": [
      "The city with the most laureates is New York, NY with 47 laureates.\n"
     ]
    }
   ],
   "source": [
    "print(f\"The city with the most laureates is {most_laureates_city} with {most_laureates_count} laureates.\")\n"
   ]
  },
  {
   "cell_type": "code",
   "execution_count": 38,
   "metadata": {},
   "outputs": [],
   "source": [
    "for laureate in laureates_data['laureates']:\n",
    "    born_city = laureate.get(\"bornCity\", \"Unknown\")\n",
    "\n",
    "    # Count laureates by city\n",
    "    if born_city in city_counts:\n",
    "        city_counts[born_city] += 1\n",
    "    else:\n",
    "        city_counts[born_city] = 1\n"
   ]
  },
  {
   "cell_type": "code",
   "execution_count": 39,
   "metadata": {},
   "outputs": [
    {
     "name": "stdout",
     "output_type": "stream",
     "text": [
      "The city with the fewest laureates is Lennep (now Remscheid) with 2 laureates.\n"
     ]
    }
   ],
   "source": [
    "# Find the city with the fewest laureates\n",
    "fewest_laureates_city = min(city_counts, key=city_counts.get)\n",
    "fewest_laureates_count = city_counts[fewest_laureates_city]\n",
    "\n",
    "print(f\"The city with the fewest laureates is {fewest_laureates_city} with {fewest_laureates_count} laureates.\")"
   ]
  },
  {
   "cell_type": "code",
   "execution_count": 40,
   "metadata": {},
   "outputs": [],
   "source": [
    "from datetime import datetime"
   ]
  },
  {
   "cell_type": "code",
   "execution_count": 45,
   "metadata": {},
   "outputs": [],
   "source": [
    "oldest_laureate = None\n",
    "oldest_age = 0\n"
   ]
  },
  {
   "cell_type": "code",
   "execution_count": 49,
   "metadata": {},
   "outputs": [],
   "source": [
    "for laureate in laureates_data['laureates']:\n",
    "    birth_date_str = laureate['born']\n",
    "    \n",
    "    # Check for invalid birth date\n",
    "    if birth_date_str.startswith(\"0000\"):\n",
    "        continue\n",
    "\n",
    "    # Parse the birth date\n",
    "    try:\n",
    "        birth_date = datetime.strptime(birth_date_str, '%Y-%m-%d')\n",
    "    except ValueError:\n",
    "        continue"
   ]
  },
  {
   "cell_type": "code",
   "execution_count": 51,
   "metadata": {},
   "outputs": [
    {
     "name": "stdout",
     "output_type": "stream",
     "text": [
      "The oldest laureate to ever receive a prize is Peyton Rous who received a prize at the age of 87.\n"
     ]
    }
   ],
   "source": [
    "prize_year = int(laureate['prizes'][0]['year'])  # Assuming the first prize is the earliest\n",
    "\n",
    "age_at_prize = prize_year - birth_date.year\n",
    "if age_at_prize > oldest_age:\n",
    "    oldest_age = age_at_prize\n",
    "    oldest_laureate = laureate\n",
    "\n",
    "print(f\"The oldest laureate to ever receive a prize is {oldest_laureate['firstname']} {oldest_laureate['surname']} who received a prize at the age of {oldest_age}.\")"
   ]
  },
  {
   "cell_type": "code",
   "execution_count": 52,
   "metadata": {},
   "outputs": [],
   "source": [
    "# Initialize a count for laureates who died in Germany but were not born in Germany\n",
    "count = 0"
   ]
  },
  {
   "cell_type": "code",
   "execution_count": 53,
   "metadata": {},
   "outputs": [
    {
     "name": "stdout",
     "output_type": "stream",
     "text": [
      "21 laureate(s) died in Germany but were not born in Germany.\n"
     ]
    }
   ],
   "source": [
    "for laureate in laureates_data['laureates']:\n",
    "    died_country = laureate.get('diedCountry')\n",
    "    born_country = laureate.get('bornCountry')\n",
    "\n",
    "    if died_country == 'Germany' and (born_country is None or born_country != 'Germany'):\n",
    "        count += 1\n",
    "\n",
    "print(f\"{count} laureate(s) died in Germany but were not born in Germany.\")"
   ]
  },
  {
   "cell_type": "code",
   "execution_count": 54,
   "metadata": {},
   "outputs": [
    {
     "name": "stdout",
     "output_type": "stream",
     "text": [
      "92 laureate(s) died in the USA but were not born in the USA.\n"
     ]
    }
   ],
   "source": [
    "for laureate in laureates_data['laureates']:\n",
    "    died_country = laureate.get('diedCountry')\n",
    "    born_country = laureate.get('bornCountry')\n",
    "\n",
    "    if died_country == 'USA' and (born_country is None or born_country != 'USA'):\n",
    "        count += 1\n",
    "\n",
    "print(f\"{count} laureate(s) died in the USA but were not born in the USA.\")"
   ]
  },
  {
   "cell_type": "code",
   "execution_count": 55,
   "metadata": {},
   "outputs": [
    {
     "name": "stdout",
     "output_type": "stream",
     "text": [
      "237 laureate(s) both died and were born in the USA.\n"
     ]
    }
   ],
   "source": [
    "for laureate in laureates_data['laureates']:\n",
    "    died_country = laureate.get('diedCountry')\n",
    "    born_country = laureate.get('bornCountry')\n",
    "\n",
    "    if died_country == 'USA' and born_country == 'USA':\n",
    "        count += 1\n",
    "\n",
    "print(f\"{count} laureate(s) both died and were born in the USA.\")"
   ]
  },
  {
   "cell_type": "code",
   "execution_count": 57,
   "metadata": {},
   "outputs": [],
   "source": [
    "count = 0"
   ]
  },
  {
   "cell_type": "code",
   "execution_count": 60,
   "metadata": {},
   "outputs": [
    {
     "name": "stdout",
     "output_type": "stream",
     "text": [
      "0 laureate(s) were born in Chicago.\n"
     ]
    }
   ],
   "source": [
    "for laureate in laureates_data['laureates']:\n",
    "    born_city = laureate.get('bornCity')\n",
    "\n",
    "    if born_city == 'Chicago':\n",
    "        count += 1\n",
    "\n",
    "print(f\"{count} laureate(s) were born in Chicago.\")"
   ]
  },
  {
   "cell_type": "code",
   "execution_count": 61,
   "metadata": {},
   "outputs": [],
   "source": [
    "laureate_prizes = {}"
   ]
  },
  {
   "cell_type": "code",
   "execution_count": 62,
   "metadata": {},
   "outputs": [],
   "source": [
    "for laureate in laureates_data['laureates']:\n",
    "    laureate_id = laureate['id']\n",
    "\n",
    "    if laureate_id in laureate_prizes:\n",
    "        laureate_prizes[laureate_id] += 1\n",
    "    else:\n",
    "        laureate_prizes[laureate_id] = 1"
   ]
  },
  {
   "cell_type": "code",
   "execution_count": 63,
   "metadata": {},
   "outputs": [],
   "source": [
    "multiple_prize_laureates = {k: v for k, v in laureate_prizes.items() if v > 1}"
   ]
  },
  {
   "cell_type": "code",
   "execution_count": 64,
   "metadata": {},
   "outputs": [
    {
     "name": "stdout",
     "output_type": "stream",
     "text": [
      "No laureates have won more than one prize.\n"
     ]
    }
   ],
   "source": [
    "if multiple_prize_laureates:\n",
    "    print(\"Laureates who have won more than one prize:\")\n",
    "    for laureate_id, prize_count in multiple_prize_laureates.items():\n",
    "        print(f\"Laureate {laureate_id} has won {prize_count} prize(s).\")\n",
    "else:\n",
    "    print(\"No laureates have won more than one prize.\")"
   ]
  }
 ],
 "metadata": {
  "kernelspec": {
   "display_name": "Python 3",
   "language": "python",
   "name": "python3"
  },
  "language_info": {
   "codemirror_mode": {
    "name": "ipython",
    "version": 3
   },
   "file_extension": ".py",
   "mimetype": "text/x-python",
   "name": "python",
   "nbconvert_exporter": "python",
   "pygments_lexer": "ipython3",
   "version": "3.11.0"
  }
 },
 "nbformat": 4,
 "nbformat_minor": 2
}
