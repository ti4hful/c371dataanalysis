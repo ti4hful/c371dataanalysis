{
 "cells": [
  {
   "cell_type": "code",
   "execution_count": null,
   "metadata": {},
   "outputs": [],
   "source": [
    "# By Cintia Biro-Hajnal 25/10/23"
   ]
  },
  {
   "cell_type": "code",
   "execution_count": 1,
   "metadata": {},
   "outputs": [],
   "source": [
    "import json"
   ]
  },
  {
   "cell_type": "code",
   "execution_count": 2,
   "metadata": {},
   "outputs": [],
   "source": [
    "# Load the Movies dataset\n",
    "file_path = r'C:\\Codebase\\own projects\\C371_DA\\4DataProcessingUsingPython\\FILEIO\\dataset\\movies.json'  # Make sure to provide the correct path\n",
    "with open(file_path, 'r', encoding='utf-8') as file:\n",
    "    movies_data = json.load(file)"
   ]
  },
  {
   "cell_type": "code",
   "execution_count": 8,
   "metadata": {},
   "outputs": [
    {
     "name": "stdout",
     "output_type": "stream",
     "text": [
      "There are 1001 movies included in this file.\n"
     ]
    }
   ],
   "source": [
    "# Question 1: How many movies are included in the file?\n",
    "num_movies = len(movies_data)\n",
    "print(f\"There are {num_movies} movies included in this file.\")"
   ]
  },
  {
   "cell_type": "code",
   "execution_count": 10,
   "metadata": {},
   "outputs": [
    {
     "name": "stdout",
     "output_type": "stream",
     "text": [
      "The movie 'A Separation' was made in the year 2011.\n"
     ]
    }
   ],
   "source": [
    "# Question 2: In what year was the movie 'A Separation' made?\n",
    "release_year = None\n",
    "for movie in movies_data:\n",
    "    if movie['title'] == 'A Separation':\n",
    "        release_year = movie['year']\n",
    "        break\n",
    "if release_year:\n",
    "    print(f\"The movie 'A Separation' was made in the year {release_year}.\")\n",
    "else:\n",
    "    print(\"The movie 'A Separation' is not in the dataset.\")\n"
   ]
  },
  {
   "cell_type": "code",
   "execution_count": 11,
   "metadata": {},
   "outputs": [
    {
     "name": "stdout",
     "output_type": "stream",
     "text": [
      "Martin Scorsese has directed 0 movies.\n"
     ]
    }
   ],
   "source": [
    "# Question 3: How many movies has Martin Scorsese directed?\n",
    "martin_scorsese_movies = [\n",
    "    movie for movie in movies_data\n",
    "    if 'director' in movie and 'Martin Scorsese' in movie['director']\n",
    "]\n",
    "num_martin_scorsese_movies = len(martin_scorsese_movies)\n",
    "print(f\"Martin Scorsese has directed {num_martin_scorsese_movies} movies.\")"
   ]
  },
  {
   "cell_type": "code",
   "execution_count": 14,
   "metadata": {},
   "outputs": [
    {
     "name": "stdout",
     "output_type": "stream",
     "text": [
      "The average rating of all movies in the dataset is 0.00.\n"
     ]
    }
   ],
   "source": [
    "# Question 4.1 : What is the average rating of all movies in the dataset?\n",
    "ratings = [movie.get('rating', 0) for movie in movies_data]\n",
    "average_rating = sum(ratings) / len(ratings)\n",
    "print(f\"The average rating of all movies in the dataset is {average_rating:.2f}.\")\n"
   ]
  },
  {
   "cell_type": "code",
   "execution_count": 23,
   "metadata": {},
   "outputs": [
    {
     "name": "stdout",
     "output_type": "stream",
     "text": [
      "The average runtime of all movies in the dataset is 119.24 minutes.\n"
     ]
    }
   ],
   "source": [
    "# 4.2 : # Calculate the average runtime of all movies in the dataset.\n",
    "runtimes = [int(movie.get('runtime', 0)) for movie in movies_data]\n",
    "average_runtime = sum(runtimes) / len(runtimes)\n",
    "print(f\"The average runtime of all movies in the dataset is {average_runtime:.2f} minutes.\")\n"
   ]
  },
  {
   "cell_type": "code",
   "execution_count": 24,
   "metadata": {},
   "outputs": [
    {
     "name": "stdout",
     "output_type": "stream",
     "text": [
      "0 movies were released in the year 2000.\n"
     ]
    }
   ],
   "source": [
    "# Question 4.4: How many movies were released in the year 2000?\n",
    "movies_2000 = [movie for movie in movies_data if movie.get('year', 0) == 2000]\n",
    "num_movies_2000 = len(movies_2000)\n",
    "print(f\"{num_movies_2000} movies were released in the year 2000.\")"
   ]
  },
  {
   "cell_type": "code",
   "execution_count": 27,
   "metadata": {},
   "outputs": [
    {
     "name": "stdout",
     "output_type": "stream",
     "text": [
      "No genres found in the dataset.\n"
     ]
    }
   ],
   "source": [
    "from collections import Counter\n",
    "\n",
    "# Question 4.5: What is the most common genre in the dataset?\n",
    "genres = [genre for movie in movies_data for genre in movie.get('genre', [])]\n",
    "\n",
    "if genres:\n",
    "    most_common_genre, genre_count = Counter(genres).most_common(1)[0]\n",
    "    print(f\"The most common genre in the dataset is '{most_common_genre}' with {genre_count} movies.\")\n",
    "else:\n",
    "    print(\"No genres found in the dataset.\")\n"
   ]
  }
 ],
 "metadata": {
  "kernelspec": {
   "display_name": "Python 3",
   "language": "python",
   "name": "python3"
  },
  "language_info": {
   "codemirror_mode": {
    "name": "ipython",
    "version": 3
   },
   "file_extension": ".py",
   "mimetype": "text/x-python",
   "name": "python",
   "nbconvert_exporter": "python",
   "pygments_lexer": "ipython3",
   "version": "3.11.0"
  }
 },
 "nbformat": 4,
 "nbformat_minor": 2
}
